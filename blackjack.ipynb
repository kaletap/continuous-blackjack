{
 "cells": [
  {
   "cell_type": "markdown",
   "metadata": {},
   "source": [
    "# Implementation of Blackjack card game.\n",
    "\n",
    "Did it just to understand what are the rules."
   ]
  },
  {
   "cell_type": "code",
   "execution_count": 258,
   "metadata": {},
   "outputs": [],
   "source": [
    "from collections import namedtuple\n",
    "import random\n",
    "from typing import List\n",
    "import itertools"
   ]
  },
  {
   "cell_type": "code",
   "execution_count": 69,
   "metadata": {},
   "outputs": [],
   "source": [
    "TWENTY_ONE = 21\n",
    "VALUES = {\n",
    "    \"2\": 2,\n",
    "    \"3\": 3,\n",
    "    \"4\": 4,\n",
    "    \"5\": 5,\n",
    "    \"6\": 6,\n",
    "    \"7\": 7,\n",
    "    \"8\": 8,\n",
    "    \"9\": 9,\n",
    "    \"10\": 10,\n",
    "    \"J\": 10,\n",
    "    \"Q\": 10,\n",
    "    \"K\": 10,\n",
    "    \"A\": 11  # could be one if the hand exceeds 21\n",
    "}\n",
    "CardTuple = namedtuple(\"Card\", \"rank suit\")\n",
    "class Card(CardTuple):\n",
    "    \"\"\"Represents a single card.\"\"\"\n",
    "    @property\n",
    "    def value(self):\n",
    "        return VALUES[self.rank]"
   ]
  },
  {
   "cell_type": "code",
   "execution_count": 41,
   "metadata": {},
   "outputs": [],
   "source": [
    "c = Card(\"4\", \"S\")"
   ]
  },
  {
   "cell_type": "markdown",
   "metadata": {},
   "source": [
    "**Suits**:\n",
    "* Spade ♠\n",
    "* Heart ♥\n",
    "* Diamond ♦\n",
    "* Club ♣\n",
    "\n",
    "**Ranks**:\n",
    "\n",
    "2, 3, 4, 5, 6, 7, 8, 9, 10, J, Q, K, A"
   ]
  },
  {
   "cell_type": "code",
   "execution_count": 3,
   "metadata": {},
   "outputs": [],
   "source": [
    "a = Card(\"A\", \"S\")"
   ]
  },
  {
   "cell_type": "code",
   "execution_count": 4,
   "metadata": {},
   "outputs": [
    {
     "data": {
      "text/plain": [
       "Card(rank='A', suit='S')"
      ]
     },
     "execution_count": 4,
     "metadata": {},
     "output_type": "execute_result"
    }
   ],
   "source": [
    "a"
   ]
  },
  {
   "cell_type": "code",
   "execution_count": 9,
   "metadata": {},
   "outputs": [
    {
     "data": {
      "text/plain": [
       "('2', '3', '4', '5', '6', '7', '8', '9', '10', 'J', 'Q', 'K', 'A')"
      ]
     },
     "execution_count": 9,
     "metadata": {},
     "output_type": "execute_result"
    }
   ],
   "source": [
    "SUITS = (\"S\", \"H\", \"D\", \"C\")\n",
    "RANKS = tuple(str(i) for i in range (2, 11)) + tuple(\"J Q K A\".split())\n",
    "RANKS"
   ]
  },
  {
   "cell_type": "code",
   "execution_count": 12,
   "metadata": {},
   "outputs": [
    {
     "data": {
      "text/plain": [
       "[Card(rank='2', suit='S'),\n",
       " Card(rank='2', suit='H'),\n",
       " Card(rank='2', suit='D'),\n",
       " Card(rank='2', suit='C'),\n",
       " Card(rank='3', suit='S')]"
      ]
     },
     "execution_count": 12,
     "metadata": {},
     "output_type": "execute_result"
    }
   ],
   "source": [
    "deck = [Card(rank, suit) for rank in RANKS for suit in SUITS]\n",
    "deck[:5]"
   ]
  },
  {
   "cell_type": "code",
   "execution_count": 39,
   "metadata": {},
   "outputs": [
    {
     "data": {
      "text/plain": [
       "[Card(rank='7', suit='S'),\n",
       " Card(rank='7', suit='H'),\n",
       " Card(rank='4', suit='H'),\n",
       " Card(rank='A', suit='C'),\n",
       " Card(rank='3', suit='D')]"
      ]
     },
     "execution_count": 39,
     "metadata": {},
     "output_type": "execute_result"
    }
   ],
   "source": [
    "random.shuffle(deck)\n",
    "deck[:5]"
   ]
  },
  {
   "cell_type": "code",
   "execution_count": 20,
   "metadata": {},
   "outputs": [],
   "source": [
    "\"\"\"Class representing a game of single player against a dealer\"\"\"\n",
    "class Dealer:\n",
    "    def __init__(self):\n",
    "        self.deck = [Card(rank, suit) for rank in RANKS for suit in SUITS]\n",
    "        random.shuffle(self.deck)\n",
    "        \n",
    "    def get_card(self) -> Card:\n",
    "        return self.deck.pop()"
   ]
  },
  {
   "cell_type": "code",
   "execution_count": 188,
   "metadata": {},
   "outputs": [],
   "source": [
    "class ActionNotAllowed(Exception):\n",
    "    pass"
   ]
  },
  {
   "cell_type": "code",
   "execution_count": 386,
   "metadata": {},
   "outputs": [],
   "source": [
    "class Hand:\n",
    "    \"Class representing a hand (a list of cards). One player can have one or more hands (after splitting)\"\n",
    "    def __init__(self, cards: List[Card]):\n",
    "        self.hand = cards\n",
    "        self.stand_commitment = False\n",
    "        self.active = True\n",
    "        self.value  # calculates soft_hand property\n",
    "        \n",
    "    def __str__(self):\n",
    "        return str(self.hand)\n",
    "    \n",
    "    def __repr__(self):\n",
    "        return repr(self.hand)\n",
    "    \n",
    "    def __len__(self):\n",
    "        return len(self.hand)\n",
    "    \n",
    "    def __getitem__(self, i):\n",
    "        return self.hand[i]\n",
    "    \n",
    "    def append(self, item: Card):\n",
    "        self.hand.append(item)\n",
    "        \n",
    "    def pop(self):\n",
    "        return self.hand.pop()\n",
    "    \n",
    "    @property\n",
    "    def value(self) -> int:\n",
    "        n_aces = 0\n",
    "        current_value = 0\n",
    "        for card in self.hand:\n",
    "            current_value += VALUES[card.rank]\n",
    "            if card.rank == \"A\":\n",
    "                n_aces += 1\n",
    "        while n_aces > 0 and current_value > TWENTY_ONE:\n",
    "            current_value -= 10\n",
    "            n_aces -= 1\n",
    "        if n_aces > 0 and current_value <= TWENTY_ONE:  # hand could be soft also when it's value equals 21\n",
    "            self.soft_hand = True\n",
    "        else:\n",
    "            self.soft_hand = False\n",
    "        return current_value\n",
    "    \n",
    "    def bust(self) -> bool:\n",
    "        return self.hand_value > TWENTY_ONE    "
   ]
  },
  {
   "cell_type": "code",
   "execution_count": 412,
   "metadata": {},
   "outputs": [],
   "source": [
    "class Player:\n",
    "    def __init__(self):\n",
    "        self.dealer = Dealer()\n",
    "        # State of the player.\n",
    "        self.n_wins = 0\n",
    "        self.n_plays = 0\n",
    "        # Hands (assuming casino allows us to play maximum of 4 hands).\n",
    "        self.first_hand = Hand([self.dealer.get_card(), self.dealer.get_card()])\n",
    "        self.second_hand = Hand([])\n",
    "        self.third_hand = Hand([])\n",
    "        self.fourth_hand = Hand([])\n",
    "        self.hands = [self.first_hand, self.second_hand, self.third_hand, self.fourth_hand]\n",
    "        self.current_hand = 0\n",
    "        self.n_hands = 1\n",
    "        \n",
    "    def __str__(self):\n",
    "        return \"Player(\\n \\t n_hands={},\\n\\t\".format(self.n_hands) + \",\\n\\t\".join(str(hand) for hand in self.hands[:self.n_hands]) + \"\\n\\t)\"\n",
    "    \n",
    "    def __repr__(self):\n",
    "        return str(self)\n",
    "        \n",
    "    @property\n",
    "    def hand(self):\n",
    "        return self.hands[self.current_hand]\n",
    "    \n",
    "    # Actions        \n",
    "    def show_hand(self):\n",
    "        print(\"Hand(n={}, {})\".format(self.current_hand, self.hand))\n",
    "    \n",
    "    def hit(self):\n",
    "        if self.hand.stand_commitment:\n",
    "            raise ActionNotAllowed\n",
    "        self.hand.append(self.dealer.get_card())  # adding a card from the dealer\n",
    "        self.hand.value  # in order to evaluate if the hand is soft or not\n",
    "        \n",
    "    def stand(self):\n",
    "        pass  # nothing to be done\n",
    "    \n",
    "    def double_down(self):\n",
    "        self.hand.hit()\n",
    "        self.hand.stand_commitment = True\n",
    "    \n",
    "    def split(self):\n",
    "        if len(self.hand) != 2 or self.hand[0].value != self.hand[1].value or self.n_hands >= 4:  # number of dealing hands can't exceed 4\n",
    "            raise ActionNotAllowed(\"Cannot split this hand.\")\n",
    "        self.hands[self.n_hands].append(self.hand.pop()) # popping one item of the current hand into last one\n",
    "        self.n_hands += 1\n",
    "        \n",
    "    # Done after taking some of the four actions\n",
    "    def change_hand(self):\n",
    "        self.current_hand = (self.current_hand + 1) % self.n_hands\n",
    "       "
   ]
  },
  {
   "cell_type": "code",
   "execution_count": 480,
   "metadata": {},
   "outputs": [],
   "source": [
    "player = Player()"
   ]
  },
  {
   "cell_type": "code",
   "execution_count": 481,
   "metadata": {},
   "outputs": [
    {
     "data": {
      "text/plain": [
       "Player(\n",
       " \t n_hands=1,\n",
       "\t[Card(rank='5', suit='S'), Card(rank='5', suit='C')]\n",
       "\t)"
      ]
     },
     "execution_count": 481,
     "metadata": {},
     "output_type": "execute_result"
    }
   ],
   "source": [
    "player"
   ]
  },
  {
   "cell_type": "code",
   "execution_count": 482,
   "metadata": {},
   "outputs": [
    {
     "name": "stdout",
     "output_type": "stream",
     "text": [
      "Hand(n=0, [Card(rank='5', suit='S'), Card(rank='5', suit='C')])\n"
     ]
    }
   ],
   "source": [
    "player.show_hand()"
   ]
  },
  {
   "cell_type": "code",
   "execution_count": 483,
   "metadata": {},
   "outputs": [],
   "source": [
    "player.split()"
   ]
  },
  {
   "cell_type": "code",
   "execution_count": 484,
   "metadata": {},
   "outputs": [
    {
     "data": {
      "text/plain": [
       "5"
      ]
     },
     "execution_count": 484,
     "metadata": {},
     "output_type": "execute_result"
    }
   ],
   "source": [
    "player.hand.value"
   ]
  },
  {
   "cell_type": "code",
   "execution_count": 486,
   "metadata": {},
   "outputs": [
    {
     "data": {
      "text/plain": [
       "Player(\n",
       " \t n_hands=2,\n",
       "\t[Card(rank='5', suit='S')],\n",
       "\t[Card(rank='5', suit='C')]\n",
       "\t)"
      ]
     },
     "execution_count": 486,
     "metadata": {},
     "output_type": "execute_result"
    }
   ],
   "source": [
    "player"
   ]
  },
  {
   "cell_type": "code",
   "execution_count": 487,
   "metadata": {},
   "outputs": [],
   "source": [
    "player.hit()"
   ]
  },
  {
   "cell_type": "code",
   "execution_count": 488,
   "metadata": {},
   "outputs": [
    {
     "data": {
      "text/plain": [
       "Player(\n",
       " \t n_hands=2,\n",
       "\t[Card(rank='5', suit='S'), Card(rank='2', suit='C')],\n",
       "\t[Card(rank='5', suit='C')]\n",
       "\t)"
      ]
     },
     "execution_count": 488,
     "metadata": {},
     "output_type": "execute_result"
    }
   ],
   "source": [
    "player"
   ]
  }
 ],
 "metadata": {
  "kernelspec": {
   "display_name": "Python 3",
   "language": "python",
   "name": "python3"
  },
  "language_info": {
   "codemirror_mode": {
    "name": "ipython",
    "version": 3
   },
   "file_extension": ".py",
   "mimetype": "text/x-python",
   "name": "python",
   "nbconvert_exporter": "python",
   "pygments_lexer": "ipython3",
   "version": "3.6.9"
  }
 },
 "nbformat": 4,
 "nbformat_minor": 4
}
